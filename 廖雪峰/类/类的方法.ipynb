{
 "cells": [
  {
   "cell_type": "markdown",
   "metadata": {},
   "source": [
    "# 类的方法"
   ]
  },
  {
   "cell_type": "markdown",
   "metadata": {},
   "source": [
    "## 方法（Method）\n",
    "---"
   ]
  },
  {
   "cell_type": "code",
   "execution_count": 1,
   "metadata": {},
   "outputs": [],
   "source": [
    "class MyClass(object):\n",
    "    i = 1\n",
    "    def foo(self):\n",
    "        pass\n",
    "mc = MyClass()\n",
    "mc.foo()"
   ]
  },
  {
   "cell_type": "markdown",
   "metadata": {},
   "source": [
    "上面定义了一个类`MyClass`，类中定义了一个方法`foo`,如果像函数一样对`foo`自身的调用都会失败："
   ]
  },
  {
   "cell_type": "code",
   "execution_count": 2,
   "metadata": {},
   "outputs": [
    {
     "ename": "NameError",
     "evalue": "name 'foo' is not defined",
     "output_type": "error",
     "traceback": [
      "\u001b[1;31m---------------------------------------------------------------------------\u001b[0m",
      "\u001b[1;31mNameError\u001b[0m                                 Traceback (most recent call last)",
      "\u001b[1;32m<ipython-input-2-c19b6d9633cf>\u001b[0m in \u001b[0;36m<module>\u001b[1;34m()\u001b[0m\n\u001b[1;32m----> 1\u001b[1;33m \u001b[0mfoo\u001b[0m\u001b[1;33m(\u001b[0m\u001b[1;33m)\u001b[0m\u001b[1;33m\u001b[0m\u001b[0m\n\u001b[0m",
      "\u001b[1;31mNameError\u001b[0m: name 'foo' is not defined"
     ]
    }
   ],
   "source": [
    "foo()"
   ]
  },
  {
   "cell_type": "markdown",
   "metadata": {},
   "source": [
    "直接调用引发了NameError的异常，因为在全局函数中没有这样的函数存在。也就是说`foo`是一个方法表示它属于一个类而不是全局空间中的名字。"
   ]
  },
  {
   "cell_type": "code",
   "execution_count": 3,
   "metadata": {},
   "outputs": [
    {
     "ename": "TypeError",
     "evalue": "foo() missing 1 required positional argument: 'self'",
     "output_type": "error",
     "traceback": [
      "\u001b[1;31m---------------------------------------------------------------------------\u001b[0m",
      "\u001b[1;31mTypeError\u001b[0m                                 Traceback (most recent call last)",
      "\u001b[1;32m<ipython-input-3-bc5a688f6f41>\u001b[0m in \u001b[0;36m<module>\u001b[1;34m()\u001b[0m\n\u001b[1;32m----> 1\u001b[1;33m \u001b[0mMyClass\u001b[0m\u001b[1;33m.\u001b[0m\u001b[0mfoo\u001b[0m\u001b[1;33m(\u001b[0m\u001b[1;33m)\u001b[0m\u001b[1;33m\u001b[0m\u001b[0m\n\u001b[0m",
      "\u001b[1;31mTypeError\u001b[0m: foo() missing 1 required positional argument: 'self'"
     ]
    }
   ],
   "source": [
    "MyClass.foo()"
   ]
  },
  {
   "cell_type": "code",
   "execution_count": 4,
   "metadata": {},
   "outputs": [
    {
     "data": {
      "text/plain": [
       "1"
      ]
     },
     "execution_count": 4,
     "metadata": {},
     "output_type": "execute_result"
    }
   ],
   "source": [
    "MyClass.i"
   ]
  },
  {
   "cell_type": "markdown",
   "metadata": {},
   "source": [
    "  直接调用`MyClass.foo()`会抛出TypeError的异常，这是因为为了与OOP惯例保持一致，Python严格要求：没有实例的方法是不能被调用的。这种限制即Python所描述的绑定概念（binding），在此，**方法必须绑定（到一个实例）才能直接被调用**。"
   ]
  },
  {
   "cell_type": "markdown",
   "metadata": {},
   "source": [
    "## 绑定和方法调用\n",
    "---"
   ]
  },
  {
   "cell_type": "markdown",
   "metadata": {},
   "source": [
    "+ 方法仅仅是类内部定义的函数（这意味着方法是类属性而不是实例属性）。\n",
    "+ 方法只有在其所属的类拥有实例时才能够被调用，当存在一个实例时，方法才被认为是绑定到那个实例了，否则就是未绑定的。\n",
    "+ 任何一个方法定义中的第一个参数都是`self`，他表示调用此方法的实例对象"
   ]
  },
  {
   "cell_type": "markdown",
   "metadata": {},
   "source": [
    "### 对象的绑定方法"
   ]
  },
  {
   "cell_type": "markdown",
   "metadata": {},
   "source": [
    "  首先看一个例子<sup>[1]</sup>:"
   ]
  },
  {
   "cell_type": "code",
   "execution_count": 5,
   "metadata": {},
   "outputs": [
    {
     "name": "stdout",
     "output_type": "stream",
     "text": [
      "<bound method People.talk of <__main__.People object at 0x0000019481B9A438>>\n"
     ]
    }
   ],
   "source": [
    "class People:\n",
    "    def __init__(self,name,age):\n",
    "        self.name = name\n",
    "        self.age = age\n",
    "    def talk(self):\n",
    "        print(self.__dict__)\n",
    "\n",
    "A = People('xiaoming',18)\n",
    "print(A.talk)"
   ]
  },
  {
   "cell_type": "markdown",
   "metadata": {},
   "source": [
    "从上面的输出结果来看，`talk()`这个类中的方法，是绑定给对象使用的。下面，再看看另外一种情况："
   ]
  },
  {
   "cell_type": "code",
   "execution_count": 6,
   "metadata": {},
   "outputs": [
    {
     "name": "stdout",
     "output_type": "stream",
     "text": [
      "<bound method People.talk of <__main__.People object at 0x0000019481B9AF98>>\n",
      "<function People.talk at 0x0000019481BA1400>\n"
     ]
    }
   ],
   "source": [
    "class People:\n",
    "    def __init__(self,name,age):\n",
    "        self.name = name\n",
    "        self.age = age\n",
    "    def talk():\n",
    "        pass\n",
    "    \n",
    "B = People('xiaohong',16)\n",
    "print(B.talk)\n",
    "print(People.talk)"
   ]
  },
  {
   "cell_type": "markdown",
   "metadata": {},
   "source": [
    " 现在，我们将`talk()`函数的`self`变量去掉，使其为类中的函数，`B.talk`仍然是bound method。这说明，不管是类中的方法，还是类中函数，默认情况下都是绑定给对象使用的。绑定给对象使用有一种好处，那就是不用手动将对象传入。对象是自动传到类中。而如果类来调用类中的方法`People.talk`，那么这个方法仅仅只是一个函数，那么既然是函数，就不会有自动传值这一功能。"
   ]
  },
  {
   "cell_type": "markdown",
   "metadata": {},
   "source": [
    " 再重新看前面两个例子"
   ]
  },
  {
   "cell_type": "code",
   "execution_count": 7,
   "metadata": {},
   "outputs": [
    {
     "name": "stdout",
     "output_type": "stream",
     "text": [
      "<class '__main__.People'>\n"
     ]
    },
    {
     "ename": "TypeError",
     "evalue": "talk() missing 1 required positional argument: 'self'",
     "output_type": "error",
     "traceback": [
      "\u001b[1;31m---------------------------------------------------------------------------\u001b[0m",
      "\u001b[1;31mTypeError\u001b[0m                                 Traceback (most recent call last)",
      "\u001b[1;32m<ipython-input-7-9af353a77641>\u001b[0m in \u001b[0;36m<module>\u001b[1;34m()\u001b[0m\n\u001b[0;32m      8\u001b[0m \u001b[0mA\u001b[0m \u001b[1;33m=\u001b[0m \u001b[0mPeople\u001b[0m\u001b[1;33m(\u001b[0m\u001b[1;34m'xiaoming'\u001b[0m\u001b[1;33m,\u001b[0m\u001b[1;36m18\u001b[0m\u001b[1;33m)\u001b[0m\u001b[1;33m\u001b[0m\u001b[0m\n\u001b[0;32m      9\u001b[0m \u001b[0mA\u001b[0m\u001b[1;33m.\u001b[0m\u001b[0mtalk\u001b[0m\u001b[1;33m(\u001b[0m\u001b[1;33m)\u001b[0m\u001b[1;33m\u001b[0m\u001b[0m\n\u001b[1;32m---> 10\u001b[1;33m \u001b[0mPeople\u001b[0m\u001b[1;33m.\u001b[0m\u001b[0mtalk\u001b[0m\u001b[1;33m(\u001b[0m\u001b[1;33m)\u001b[0m\u001b[1;33m\u001b[0m\u001b[0m\n\u001b[0m",
      "\u001b[1;31mTypeError\u001b[0m: talk() missing 1 required positional argument: 'self'"
     ]
    }
   ],
   "source": [
    "class People:\n",
    "    def __init__(self,name,age):\n",
    "        self.name = name\n",
    "        self.age = age\n",
    "    def talk(self):\n",
    "        print(self.__class__)\n",
    "\n",
    "A = People('xiaoming',18)\n",
    "A.talk()\n",
    "People.talk()"
   ]
  },
  {
   "cell_type": "markdown",
   "metadata": {},
   "source": [
    "`A.talk()`运行正常，`People.talk()`报错的原因正式前文所述的**没有实例的方法是不能被调用的**,如果想用类名调用类中的方法时，方法有几个参数就要手动传几个参数进去："
   ]
  },
  {
   "cell_type": "code",
   "execution_count": 8,
   "metadata": {},
   "outputs": [
    {
     "name": "stdout",
     "output_type": "stream",
     "text": [
      "<class 'int'>\n"
     ]
    }
   ],
   "source": [
    "People.talk(1234)"
   ]
  },
  {
   "cell_type": "markdown",
   "metadata": {},
   "source": [
    "同样，对于类中定义一个函数的情况，实例化的对象调用该函数也会报错:"
   ]
  },
  {
   "cell_type": "code",
   "execution_count": 9,
   "metadata": {},
   "outputs": [
    {
     "name": "stdout",
     "output_type": "stream",
     "text": [
      "say something\n"
     ]
    },
    {
     "ename": "TypeError",
     "evalue": "talk() takes 0 positional arguments but 1 was given",
     "output_type": "error",
     "traceback": [
      "\u001b[1;31m---------------------------------------------------------------------------\u001b[0m",
      "\u001b[1;31mTypeError\u001b[0m                                 Traceback (most recent call last)",
      "\u001b[1;32m<ipython-input-9-2dedc18e24d2>\u001b[0m in \u001b[0;36m<module>\u001b[1;34m()\u001b[0m\n\u001b[0;32m      8\u001b[0m \u001b[0mB\u001b[0m \u001b[1;33m=\u001b[0m \u001b[0mPeople\u001b[0m\u001b[1;33m(\u001b[0m\u001b[1;34m'xiaohong'\u001b[0m\u001b[1;33m,\u001b[0m\u001b[1;36m16\u001b[0m\u001b[1;33m)\u001b[0m\u001b[1;33m\u001b[0m\u001b[0m\n\u001b[0;32m      9\u001b[0m \u001b[0mPeople\u001b[0m\u001b[1;33m.\u001b[0m\u001b[0mtalk\u001b[0m\u001b[1;33m(\u001b[0m\u001b[1;33m)\u001b[0m  \u001b[1;31m#正常执行\u001b[0m\u001b[1;33m\u001b[0m\u001b[0m\n\u001b[1;32m---> 10\u001b[1;33m \u001b[0mB\u001b[0m\u001b[1;33m.\u001b[0m\u001b[0mtalk\u001b[0m\u001b[1;33m(\u001b[0m\u001b[1;33m)\u001b[0m       \u001b[1;31m#报错：talk() takes 0 positional arguments but 1 was given\u001b[0m\u001b[1;33m\u001b[0m\u001b[0m\n\u001b[0m",
      "\u001b[1;31mTypeError\u001b[0m: talk() takes 0 positional arguments but 1 was given"
     ]
    }
   ],
   "source": [
    "class People:\n",
    "    def __init__(self,name,age):\n",
    "        self.name = name\n",
    "        self.age = age\n",
    "    def talk():\n",
    "        print('say something')\n",
    "    \n",
    "B = People('xiaohong',16)\n",
    "People.talk()  #正常执行\n",
    "B.talk()       #报错：talk() takes 0 positional arguments but 1 was given"
   ]
  },
  {
   "cell_type": "markdown",
   "metadata": {},
   "source": [
    "### 类的绑定方法"
   ]
  },
  {
   "cell_type": "markdown",
   "metadata": {},
   "source": [
    "上面的例子指出，调用类中的方法都要通过实例化后在实例中运行，没有实例的方法是不能被调用的。因此，如果我想通过类中的方法初始化某个变量，就会面临一些问题。比如上述例子中使用`A = People.talk()`去初始化`A`就会给出`TypeError: talk() missing 1 required positional argument: 'self'`的错误。那么有什么办法能让类的方法不在实例中运行吗？"
   ]
  },
  {
   "cell_type": "markdown",
   "metadata": {},
   "source": [
    "让我们假设一个处理时间的类<sup>[5]</sup>:\n",
    "```Python\n",
    "class Date(object):\n",
    "\n",
    "    def __init__(self, day=0, month=0, year=0):\n",
    "        self.day = day\n",
    "        self.month = month\n",
    "        self.year = year\n",
    "```"
   ]
  },
  {
   "cell_type": "markdown",
   "metadata": {},
   "source": [
    "类中，我们用`__init__`作为初始化实例的方式并用`self`作为第一个参数引用所创建的实例。"
   ]
  },
  {
   "cell_type": "markdown",
   "metadata": {},
   "source": [
    "#####  Class Method"
   ]
  },
  {
   "cell_type": "markdown",
   "metadata": {},
   "source": [
    "假设我们得到了给定格式的('dd-mm-yyyy')时间信息字符串，并依此创建大量`Date`实例，我们需要做如下两个步骤：\n",
    "    1. 将字符串按照天/月/年的格式解析为三个int变量或者一个三元素的tuple变量\n",
    "    2. 用解析好的变量实例化`Date`\n",
    "对于第一步可以通过代码实现：\n",
    "```Python\n",
    "day, month, year = map(int, string_date.split('-'))\n",
    "date1 = Date(day, month, year)\n",
    "```\n",
    "那我能不能把这段代码放入到类中呢？这时就要用到`classmethod`:\n",
    "```Python\n",
    "    @classmethod\n",
    "    def from_string(cls, date_as_string):\n",
    "        day, month, year = map(int, date_as_string.split('-'))\n",
    "        date1 = cls(day, month, year)\n",
    "        return date1\n",
    "\n",
    "date2 = Date.from_string('11-09-2012')\n",
    "```\n",
    "完整的代码如下："
   ]
  },
  {
   "cell_type": "code",
   "execution_count": 10,
   "metadata": {},
   "outputs": [
    {
     "name": "stdout",
     "output_type": "stream",
     "text": [
      "11\n",
      "9\n",
      "2012\n"
     ]
    }
   ],
   "source": [
    "class Date(object):\n",
    "    def __init__(self, day=0, month=0, year=0):\n",
    "        self.day = day\n",
    "        self.month = month\n",
    "        self.year = year\n",
    "        \n",
    "    @classmethod\n",
    "    def from_string(cls, date_as_string):\n",
    "        day, month, year = map(int, date_as_string.split('-'))\n",
    "        date1 = cls(day, month, year)\n",
    "        return date1\n",
    "    \n",
    "    def printd(self):\n",
    "        print(self.day)\n",
    "        print(self.month)\n",
    "        print(self.year)\n",
    "\n",
    "date2 = Date.from_string('11-09-2012')\n",
    "date2.printd()"
   ]
  },
  {
   "cell_type": "markdown",
   "metadata": {},
   "source": [
    "#####  Static method"
   ]
  },
  {
   "cell_type": "markdown",
   "metadata": {},
   "source": [
    "`staticmethod`与`classmethod`用法相似，不同的地方在于`classmethod`的第一个参数必须用于引用类对象(`self`)，而`staticmethod`甚至可以没有任何参数。"
   ]
  },
  {
   "cell_type": "markdown",
   "metadata": {},
   "source": [
    "比如我们要验证给定的字符串是否是有效的日期：\n",
    "```Python\n",
    "    @staticmethod\n",
    "    def is_date_valid(date_as_string):\n",
    "        day, month, year = map(int, date_as_string.split('-'))\n",
    "        return day <= 31 and month <= 12 and year <= 3999\n",
    "\n",
    "    # usage:\n",
    "    is_date = Date.is_date_valid('11-09-2012')\n",
    "```\n",
    "从这个例子中可以看出，`staticmethod`其仅仅只是一个函数。"
   ]
  },
  {
   "cell_type": "markdown",
   "metadata": {},
   "source": [
    "下面给出一个直观的例子比较`staticmethod`和`classmethod`<sup>[4]</sup>\n",
    "```Python\n",
    "class Kls(object):\n",
    "    def __init__(self, data):\n",
    "        self.data = data\n",
    "    def printd(self):\n",
    "        print(self.data)\n",
    "    @staticmethod\n",
    "    def smethod(*arg):\n",
    "        print('Static:', arg)\n",
    "    @classmethod\n",
    "    def cmethod(*arg):\n",
    "        print('Class:', arg)\n",
    "\n",
    ">>> ik = Kls(23)\n",
    ">>> ik.printd()\n",
    "23\n",
    ">>> ik.smethod()\n",
    "Static: ()\n",
    ">>> ik.cmethod()\n",
    "Class: (<class '__main__.Kls'>,)\n",
    ">>> Kls.printd()\n",
    "TypeError: unbound method printd() must be called with Kls instance as first argument (got nothing instead)\n",
    ">>> Kls.smethod()\n",
    "Static: ()\n",
    ">>> Kls.cmethod()\n",
    "Class: (<class '__main__.Kls'>,)\n",
    "```"
   ]
  },
  {
   "cell_type": "markdown",
   "metadata": {},
   "source": [
    "#### Reference"
   ]
  },
  {
   "cell_type": "markdown",
   "metadata": {},
   "source": [
    "1. https://www.cnblogs.com/vipchenwei/p/7126772.html\n",
    "2. https://docs.python.org/3/library/functions.html?highlight=classmethod#staticmethod\n",
    "3. https://docs.python.org/3/library/functions.html?highlight=classmethod#classmethod\n",
    "4. http://www.wklken.me/posts/2013/12/22/difference-between-staticmethod-and-classmethod-in-python.html\n",
    "5. https://stackoverflow.com/questions/12179271/meaning-of-classmethod-and-staticmethod-for-beginner/12179325#12179325"
   ]
  }
 ],
 "metadata": {
  "kernelspec": {
   "display_name": "Python 3",
   "language": "python",
   "name": "python3"
  },
  "language_info": {
   "codemirror_mode": {
    "name": "ipython",
    "version": 3
   },
   "file_extension": ".py",
   "mimetype": "text/x-python",
   "name": "python",
   "nbconvert_exporter": "python",
   "pygments_lexer": "ipython3",
   "version": "3.6.2"
  }
 },
 "nbformat": 4,
 "nbformat_minor": 2
}
