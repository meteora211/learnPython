{
 "cells": [
  {
   "cell_type": "markdown",
   "metadata": {},
   "source": [
    "### 子类"
   ]
  },
  {
   "cell_type": "markdown",
   "metadata": {},
   "source": [
    "创建子类的语法和创建普通类没有区别，类名后跟一个或多个需要从中派生的父类：\n",
    "```Python\n",
    "class SubClassName(ParentClass1,[ParentClass2, ...]):\n",
    "    'optional class documentation string'\n",
    "    class_suite\n",
    "```\n",
    "如果你的类没有从任何祖先类派生，可以使用`object`作为父类的名字"
   ]
  },
  {
   "cell_type": "code",
   "execution_count": 1,
   "metadata": {},
   "outputs": [],
   "source": [
    "class Parent(object):\n",
    "    def ParentMethod(self):\n",
    "        print('Calling Parent Method')\n",
    "        \n",
    "class Child(Parent):\n",
    "    def ChildMethod(self):\n",
    "        print('Calling Child Method')"
   ]
  },
  {
   "cell_type": "code",
   "execution_count": 2,
   "metadata": {},
   "outputs": [],
   "source": [
    "p = Parent()\n",
    "c = Child()"
   ]
  },
  {
   "cell_type": "code",
   "execution_count": 3,
   "metadata": {},
   "outputs": [
    {
     "name": "stdout",
     "output_type": "stream",
     "text": [
      "Calling Parent Method\n"
     ]
    }
   ],
   "source": [
    "p.ParentMethod()"
   ]
  },
  {
   "cell_type": "code",
   "execution_count": 4,
   "metadata": {},
   "outputs": [
    {
     "name": "stdout",
     "output_type": "stream",
     "text": [
      "Calling Child Method\n"
     ]
    }
   ],
   "source": [
    "c.ChildMethod()"
   ]
  },
  {
   "cell_type": "code",
   "execution_count": 5,
   "metadata": {},
   "outputs": [
    {
     "name": "stdout",
     "output_type": "stream",
     "text": [
      "Calling Parent Method\n"
     ]
    }
   ],
   "source": [
    "c.ParentMethod()"
   ]
  },
  {
   "cell_type": "markdown",
   "metadata": {},
   "source": [
    "### 继承"
   ]
  },
  {
   "cell_type": "code",
   "execution_count": 6,
   "metadata": {},
   "outputs": [],
   "source": [
    "class P(object):\n",
    "    'P class'\n",
    "    def __init__(self):\n",
    "        print('created an instance of %s' % self.__class__.__name__)\n",
    "        \n",
    "class C(P):\n",
    "    pass"
   ]
  },
  {
   "cell_type": "code",
   "execution_count": 7,
   "metadata": {},
   "outputs": [
    {
     "name": "stdout",
     "output_type": "stream",
     "text": [
      "created an instance of P\n"
     ]
    }
   ],
   "source": [
    "p = P()   #父类实例"
   ]
  },
  {
   "cell_type": "code",
   "execution_count": 8,
   "metadata": {},
   "outputs": [
    {
     "data": {
      "text/plain": [
       "__main__.P"
      ]
     },
     "execution_count": 8,
     "metadata": {},
     "output_type": "execute_result"
    }
   ],
   "source": [
    "p.__class__    #显示p所属的类名"
   ]
  },
  {
   "cell_type": "code",
   "execution_count": 9,
   "metadata": {},
   "outputs": [
    {
     "data": {
      "text/plain": [
       "(object,)"
      ]
     },
     "execution_count": 9,
     "metadata": {},
     "output_type": "execute_result"
    }
   ],
   "source": [
    "P.__bases__    #父类的父类 !!注意这里是类名而不是实例名"
   ]
  },
  {
   "cell_type": "code",
   "execution_count": 10,
   "metadata": {},
   "outputs": [
    {
     "name": "stdout",
     "output_type": "stream",
     "text": [
      "created an instance of C\n"
     ]
    }
   ],
   "source": [
    "c = C()    #子类实例"
   ]
  },
  {
   "cell_type": "code",
   "execution_count": 11,
   "metadata": {},
   "outputs": [
    {
     "data": {
      "text/plain": [
       "__main__.C"
      ]
     },
     "execution_count": 11,
     "metadata": {},
     "output_type": "execute_result"
    }
   ],
   "source": [
    "c.__class__    #c所属的类名"
   ]
  },
  {
   "cell_type": "code",
   "execution_count": 12,
   "metadata": {},
   "outputs": [
    {
     "data": {
      "text/plain": [
       "(__main__.P,)"
      ]
     },
     "execution_count": 12,
     "metadata": {},
     "output_type": "execute_result"
    }
   ],
   "source": [
    "C.__bases__    #C的父类  !!注意这里是类名而不是实例名"
   ]
  },
  {
   "cell_type": "code",
   "execution_count": 13,
   "metadata": {},
   "outputs": [],
   "source": [
    "c.__doc__"
   ]
  },
  {
   "cell_type": "code",
   "execution_count": 14,
   "metadata": {},
   "outputs": [
    {
     "data": {
      "text/plain": [
       "'P class'"
      ]
     },
     "execution_count": 14,
     "metadata": {},
     "output_type": "execute_result"
    }
   ],
   "source": [
    "p.__doc__"
   ]
  },
  {
   "cell_type": "markdown",
   "metadata": {},
   "source": [
    "#### 通过继承覆盖方法"
   ]
  },
  {
   "cell_type": "code",
   "execution_count": 15,
   "metadata": {},
   "outputs": [
    {
     "name": "stdout",
     "output_type": "stream",
     "text": [
      "Child foo\n"
     ]
    }
   ],
   "source": [
    "class Parent(object):\n",
    "    'parent class'\n",
    "    def foo(self):\n",
    "        print('Parent foo')\n",
    "        \n",
    "class Child(Parent):\n",
    "    'child class'\n",
    "    def foo(self):\n",
    "        print('Child foo')\n",
    "        \n",
    "p = Parent()\n",
    "c = Child()\n",
    "c.foo()"
   ]
  },
  {
   "cell_type": "markdown",
   "metadata": {},
   "source": [
    "#### 多重继承"
   ]
  },
  {
   "cell_type": "code",
   "execution_count": 16,
   "metadata": {},
   "outputs": [
    {
     "name": "stdout",
     "output_type": "stream",
     "text": [
      "(<class '__main__.C'>, <class '__main__.J1'>, <class '__main__.J2'>, <class '__main__.K1'>, <class '__main__.K2'>, <class 'object'>)\n",
      "K1-foo\n",
      "J2-bar\n"
     ]
    }
   ],
   "source": [
    "class K1(object):\n",
    "    def foo(self):\n",
    "        print('K1-foo')\n",
    "        \n",
    "class K2(object):\n",
    "    def foo(self):\n",
    "        print('K2-foo')\n",
    "    def bar(self):\n",
    "        print('K2-bar')\n",
    "        \n",
    "class J1(K1,K2):\n",
    "    pass\n",
    "\n",
    "class J2(K1,K2):\n",
    "    def bar(self):\n",
    "        print('J2-bar')\n",
    "        \n",
    "class C(J1,J2):\n",
    "    pass\n",
    "\n",
    "print(C.__mro__)\n",
    "m = C()\n",
    "m.foo()\n",
    "m.bar()"
   ]
  },
  {
   "cell_type": "markdown",
   "metadata": {},
   "source": [
    "Python新式类对继承属性和方法的搜索顺序为**广度优先**。即按照`C->J1->J2->K1->K2`的顺序"
   ]
  },
  {
   "cell_type": "markdown",
   "metadata": {},
   "source": [
    "#### super函数"
   ]
  },
  {
   "cell_type": "code",
   "execution_count": 17,
   "metadata": {},
   "outputs": [
    {
     "ename": "AttributeError",
     "evalue": "'Child' object has no attribute 'height'",
     "output_type": "error",
     "traceback": [
      "\u001b[1;31m---------------------------------------------------------------------------\u001b[0m",
      "\u001b[1;31mAttributeError\u001b[0m                            Traceback (most recent call last)",
      "\u001b[1;32m<ipython-input-17-9d65fcc10f3f>\u001b[0m in \u001b[0;36m<module>\u001b[1;34m()\u001b[0m\n\u001b[0;32m     16\u001b[0m \u001b[1;33m\u001b[0m\u001b[0m\n\u001b[0;32m     17\u001b[0m \u001b[0mc\u001b[0m \u001b[1;33m=\u001b[0m \u001b[0mChild\u001b[0m\u001b[1;33m(\u001b[0m\u001b[1;33m)\u001b[0m\u001b[1;33m\u001b[0m\u001b[0m\n\u001b[1;32m---> 18\u001b[1;33m \u001b[0mc\u001b[0m\u001b[1;33m.\u001b[0m\u001b[0mabout\u001b[0m\u001b[1;33m(\u001b[0m\u001b[1;34m'xiaoming'\u001b[0m\u001b[1;33m)\u001b[0m\u001b[1;33m\u001b[0m\u001b[0m\n\u001b[0m",
      "\u001b[1;32m<ipython-input-17-9d65fcc10f3f>\u001b[0m in \u001b[0;36mabout\u001b[1;34m(self, name)\u001b[0m\n\u001b[0;32m     13\u001b[0m \u001b[1;33m\u001b[0m\u001b[0m\n\u001b[0;32m     14\u001b[0m     \u001b[1;32mdef\u001b[0m \u001b[0mabout\u001b[0m\u001b[1;33m(\u001b[0m\u001b[0mself\u001b[0m\u001b[1;33m,\u001b[0m\u001b[0mname\u001b[0m\u001b[1;33m)\u001b[0m\u001b[1;33m:\u001b[0m\u001b[1;33m\u001b[0m\u001b[0m\n\u001b[1;32m---> 15\u001b[1;33m         \u001b[0mprint\u001b[0m\u001b[1;33m(\u001b[0m\u001b[1;34m'name is {} height is {} age is {}'\u001b[0m\u001b[1;33m.\u001b[0m\u001b[0mformat\u001b[0m\u001b[1;33m(\u001b[0m\u001b[0mname\u001b[0m\u001b[1;33m,\u001b[0m \u001b[0mself\u001b[0m\u001b[1;33m.\u001b[0m\u001b[0mheight\u001b[0m\u001b[1;33m,\u001b[0m \u001b[0mself\u001b[0m\u001b[1;33m.\u001b[0m\u001b[0mage\u001b[0m\u001b[1;33m)\u001b[0m\u001b[1;33m)\u001b[0m\u001b[1;33m\u001b[0m\u001b[0m\n\u001b[0m\u001b[0;32m     16\u001b[0m \u001b[1;33m\u001b[0m\u001b[0m\n\u001b[0;32m     17\u001b[0m \u001b[0mc\u001b[0m \u001b[1;33m=\u001b[0m \u001b[0mChild\u001b[0m\u001b[1;33m(\u001b[0m\u001b[1;33m)\u001b[0m\u001b[1;33m\u001b[0m\u001b[0m\n",
      "\u001b[1;31mAttributeError\u001b[0m: 'Child' object has no attribute 'height'"
     ]
    }
   ],
   "source": [
    "class Parent(object):\n",
    "    'parent class'\n",
    "    def __init__(self):\n",
    "        self.height = 180\n",
    "        \n",
    "    def about(self,name):\n",
    "        print('name is {} height is {}'.format(name, self.height))\n",
    "        \n",
    "class Child(Parent):\n",
    "    'child class'\n",
    "    def __init__(self):\n",
    "        self.age = 16\n",
    "        \n",
    "    def about(self,name):\n",
    "        print('name is {} height is {} age is {}'.format(name, self.height, self.age))\n",
    "        \n",
    "c = Child()\n",
    "c.about('xiaoming')"
   ]
  },
  {
   "cell_type": "markdown",
   "metadata": {},
   "source": [
    "这个例子说明，如果在子类中定义了`__init()__`，实例化子类时，父类的`__init()__`就不会被调用，这时就要用到`super()`函数："
   ]
  },
  {
   "cell_type": "code",
   "execution_count": 18,
   "metadata": {},
   "outputs": [
    {
     "name": "stdout",
     "output_type": "stream",
     "text": [
      "name is xiaoming height is 180 age is 16\n"
     ]
    }
   ],
   "source": [
    "class Parent(object):\n",
    "    'parent class'\n",
    "    def __init__(self):\n",
    "        self.height = 180\n",
    "        \n",
    "    def about(self,name):\n",
    "        print('name is {} height is {}'.format(name, self.height))\n",
    "        \n",
    "class Child(Parent):\n",
    "    'child class'\n",
    "    def __init__(self):\n",
    "        super(Child,self).__init__()\n",
    "        self.age = 16\n",
    "        \n",
    "    def about(self,name):\n",
    "        print('name is {} height is {} age is {}'.format(name, self.height, self.age))\n",
    "        \n",
    "c = Child()\n",
    "c.about('xiaoming')"
   ]
  }
 ],
 "metadata": {
  "kernelspec": {
   "display_name": "Python 3",
   "language": "python",
   "name": "python3"
  },
  "language_info": {
   "codemirror_mode": {
    "name": "ipython",
    "version": 3
   },
   "file_extension": ".py",
   "mimetype": "text/x-python",
   "name": "python",
   "nbconvert_exporter": "python",
   "pygments_lexer": "ipython3",
   "version": "3.6.2"
  }
 },
 "nbformat": 4,
 "nbformat_minor": 2
}
