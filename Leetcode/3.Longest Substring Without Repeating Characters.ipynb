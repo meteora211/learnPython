{
 "cells": [
  {
   "cell_type": "markdown",
   "metadata": {},
   "source": [
    "# 3. Longest Substring Without Repeating Characters"
   ]
  },
  {
   "cell_type": "markdown",
   "metadata": {},
   "source": [
    "Given a string, find the length of the longest substring without repeating characters.\n",
    "\n",
    "Examples:\n",
    "\n",
    ">Given \"abcabcbb\", the answer is \"abc\", which the length is 3.\n",
    "\n",
    ">Given \"bbbbb\", the answer is \"b\", with the length of 1.\n",
    "\n",
    ">Given \"pwwkew\", the answer is \"wke\", with the length of 3. Note that the answer must be a substring, \"pwke\" is a subsequence and not a substring."
   ]
  },
  {
   "cell_type": "code",
   "execution_count": 1,
   "metadata": {},
   "outputs": [],
   "source": [
    "class Solution(object):\n",
    "    def lengthOfLongestSubstring(self, s):\n",
    "        \"\"\"\n",
    "        :type s: str\n",
    "        :rtype: int\n",
    "        \"\"\"\n",
    "        storage = {}                      # use dict as hash table\n",
    "        start = 0                         # always points to the start position\n",
    "        maxium = 0                        # length of maxium substring\n",
    "        for i, value in enumerate(s):\n",
    "            if value in storage and start <= storage[value]:\n",
    "                start = storage[value] + 1\n",
    "            else:\n",
    "                maxium = max(i - start + 1, maxium)\n",
    "            storage[value] = i\n",
    "        return maxium"
   ]
  },
  {
   "cell_type": "markdown",
   "metadata": {},
   "source": [
    "## 思路"
   ]
  },
  {
   "cell_type": "markdown",
   "metadata": {},
   "source": [
    "问题求的是**长度**，且要求**没有重复字符**，因此首先考虑key-value对记录字符的索引<->字符值。用当前字符的位置减去上一次重复字符的位置即可得出substring的长度。\n",
    "此外需要一个变量`maxium`记录当前最长长度，并考虑最后返回\n",
    "\n",
    "对输入字符串迭代，并给定开始位置`start`，每次迭代先查找变量`storage`中是否已经存储当前字符串：\n",
    "是则更新开始位置。否则更新长度。\n"
   ]
  },
  {
   "cell_type": "code",
   "execution_count": null,
   "metadata": {},
   "outputs": [],
   "source": []
  }
 ],
 "metadata": {
  "kernelspec": {
   "display_name": "Python 3",
   "language": "python",
   "name": "python3"
  },
  "language_info": {
   "codemirror_mode": {
    "name": "ipython",
    "version": 3
   },
   "file_extension": ".py",
   "mimetype": "text/x-python",
   "name": "python",
   "nbconvert_exporter": "python",
   "pygments_lexer": "ipython3",
   "version": "3.6.3"
  }
 },
 "nbformat": 4,
 "nbformat_minor": 2
}
